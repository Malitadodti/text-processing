{
 "cells": [
  {
   "cell_type": "code",
   "execution_count": 5,
   "metadata": {},
   "outputs": [
    {
     "name": "stdout",
     "output_type": "stream",
     "text": [
      "DATA: Looking at others submissions and improving on mine.\n",
      "It's great to be able to work on projects that can have a real impact rather than just making visualisations for myself. I really enjoyed being abl\n"
     ]
    }
   ],
   "source": [
    "import os\n",
    "with open(os.getcwd()+ \"/test1.txt\",'r') as fh:\n",
    "    filedata=fh.read()\n",
    "        \n",
    "\n",
    "print(\"DATA:\", filedata[0:200])\n"
   ]
  },
  {
   "cell_type": "code",
   "execution_count": 1,
   "metadata": {},
   "outputs": [
    {
     "name": "stdout",
     "output_type": "stream",
     "text": [
      "Requirement already satisfied: nltk in c:\\users\\malit\\miniconda3\\envs\\malenv\\lib\\site-packages (3.4.5)\n",
      "Requirement already satisfied: six in c:\\users\\malit\\miniconda3\\envs\\malenv\\lib\\site-packages (from nltk) (1.14.0)\n",
      "Note: you may need to restart the kernel to use updated packages.\n"
     ]
    },
    {
     "name": "stderr",
     "output_type": "stream",
     "text": [
      "WARNING: Ignoring invalid distribution -pencv-python (c:\\users\\malit\\miniconda3\\envs\\malenv\\lib\\site-packages)\n",
      "WARNING: Ignoring invalid distribution -pencv-python (c:\\users\\malit\\miniconda3\\envs\\malenv\\lib\\site-packages)\n",
      "WARNING: Ignoring invalid distribution -pencv-python (c:\\users\\malit\\miniconda3\\envs\\malenv\\lib\\site-packages)\n",
      "WARNING: Ignoring invalid distribution -pencv-python (c:\\users\\malit\\miniconda3\\envs\\malenv\\lib\\site-packages)\n",
      "WARNING: Ignoring invalid distribution -pencv-python (c:\\users\\malit\\miniconda3\\envs\\malenv\\lib\\site-packages)\n"
     ]
    }
   ],
   "source": [
    "pip install nltk"
   ]
  },
  {
   "cell_type": "code",
   "execution_count": 23,
   "metadata": {},
   "outputs": [
    {
     "name": "stdout",
     "output_type": "stream",
     "text": [
      "Looking at others submissions and improving on mine.\r\n",
      "It's great to be able to work on projects that can have a real impact rather than just making visualisations for myself. I really enjoyed being able to see the live presentation and the amazing vizes that others had done, I feel I learned so much from that.\r\n",
      "Opportunity to develop my technical skills, expand my network, and deliver a meaningful output.\r\n",
      "The reason for joining was to lend my skill at making a difference\r\n",
      "Getting accurate information is an important step towards help. I think VFSG is a good way for social projects to understand their own activities and identify growth points. And at the same time, the dissemination of information makes these projects accessible to people.\r\n",
      "Gaining experience. Participating for good causes.\r\n",
      "Social impect and awareness aspect of the community.\r\n",
      "Great people and Great knowledge\r\n",
      "Its a platform where we are helping and growing socially\r\n",
      "Clear instructions\r\n",
      "Just to know that I am making a change is enough\r\n",
      "Being able to help non profits do the amazing work they do.\r\n",
      "The community of diverse people. And the opportunity to learn more from others.\r\n",
      "Networking\r\n",
      "Meaningful experience\r\n",
      "I like that it’s an opportunity to make an impact in the community with the new skills I’ve learned.\r\n",
      "It sounds like a great opportunity!\r\n",
      "Chance to make a difference through a creative endeavor\r\n",
      "Learning, networking, helping\r\n",
      "VFSG provides real life client brief with actual needs and problems for the volunteers to help solve. It gives opportunity to do good with our data viz skills.\r\n",
      "I recently signed on and haven't yet had the chance to do a project so can't answer this\r\n",
      "Using my skillet to help others\r\n",
      "Gives me the opportunity to learn from others while working on a good cause.\r\n",
      "Getting to practice my skills outside of work!\r\n",
      "i feel useful\r\n",
      "It's great to be able to do something that you enjoy knowing that it might help an org or group of people who can't necessarily afford to pay for it or are aware that something like clear communication of data can help get their message out.\r\n",
      "Working with non-profits that have real social impacts, well-organised event, community is tightly knit\r\n",
      "I actually haven't had a chance to participate yet -- look forward to it!\r\n",
      "experience, help out , meet and learn\r\n",
      "Dedicated people who are kind and respectful to all participants. Meaningful requests (though often discouraged by poor fit / inadequacy of data to address those well). Seeing how other participants handle the same call and dataset(s).\r\n",
      "Sense of contributing for the greater good and being part of a community\r\n",
      "Sharing knowledge and result with data people and people who need any assistants from data people\r\n",
      "I have just started, no experience yet\r\n",
      "Learning experience\r\n",
      "Varied non-profits that are being highlighted\r\n",
      "the opportunity to practise  do good at the same time\r\n",
      "New interesting data that has impact\r\n",
      "I'm not currently active\r\n",
      "Collaborating with the fellow VFSG volunteer members and helping the community with whatever help I possibly could provide with my skills\r\n",
      "Definitely the mission of the group. I think it's really important.\r\n",
      "Helping out a good cause\r\n",
      "I am yet to be able to offer my services (see point above - ie, I would prefer a collaboration platform to pull me into a project better\r\n",
      "Using my skills for a good cause.\r\n",
      "I love helping organizations do good in the world.\r\n",
      "No experience yet\r\n",
      "Ability to use my skills and talents to help others.\r\n",
      "Competitiveness\r\n",
      "Getting to help others and learning and building my skills at the same time\r\n",
      "good causes, inclusive environment, friendly participants\r\n",
      "This is my first time volunteering with VFSG\r\n",
      "Its a great opportunitity to collaborate with the Datafam\r\n",
      "The ability to use skills for a good cause, without any administrative work.\r\n",
      "I'm excited to work with others on a new project, I like data viz and it's not my main job so I really like to practice it when I can\r\n",
      "Sharing my experience and using it to help others\r\n",
      "I havent gotten any projects yet. Would be great to participate\r\n",
      "Th problem statement is clear\r\n",
      "diverse globally and diverse tool and skill set\r\n",
      "Variety of projects\r\n",
      "not data on africa\r\n",
      "Connection with others around the globe\r\n",
      "Community connecting globally on amazing projects .Learning new things\r\n",
      "Great community and great organisations.innovative concept on using data for social good\r\n",
      "Do activities that help society\r\n",
      "A chance to help in various causes which I wouldn't be able to do otherwise.\r\n",
      "I still didn't have a chance to participate in any project since there were so few or I didn't get notified about them\r\n",
      "Subjects\r\n",
      "Working with data to potentially benefit a good cause\r\n",
      "Learning and seeing others results after trying myself\r\n",
      "The feeling that I can do something good just by doing something that I enjoy doing.\r\n",
      "Love everything about vfsg\r\n",
      "Doing good by using our talent\r\n",
      "learn from other\r\n",
      "Doing something I love and hopefully helping others.\r\n",
      "social good\r\n",
      "Able to explain to bunch of new people.\r\n",
      "Love the way it's been coordinated\r\n",
      "I haven't worked on a project yet. I joined recently.\r\n",
      "\r\n",
      "\n"
     ]
    },
    {
     "name": "stderr",
     "output_type": "stream",
     "text": [
      "[nltk_data] Downloading package punkt to\n",
      "[nltk_data]     C:\\Users\\malit\\AppData\\Roaming\\nltk_data...\n",
      "[nltk_data]   Package punkt is already up-to-date!\n"
     ]
    }
   ],
   "source": [
    "import nltk\n",
    "nltk.download('punkt')\n",
    "\n",
    "from nltk.corpus.reader.plaintext import PlaintextCorpusReader\n",
    "corpus = nltk.corpus.reader.plaintext.PlaintextCorpusReader(\".\", \"test1.txt\")\n",
    "\n",
    "\n",
    "\n",
    "\n",
    "print(corpus.raw())"
   ]
  },
  {
   "cell_type": "code",
   "execution_count": 24,
   "metadata": {},
   "outputs": [
    {
     "name": "stdout",
     "output_type": "stream",
     "text": [
      "words: ['Looking', 'at', 'others', 'submissions', 'and', ...]\n"
     ]
    }
   ],
   "source": [
    "print(\"words:\", corpus.words())"
   ]
  },
  {
   "cell_type": "code",
   "execution_count": 26,
   "metadata": {},
   "outputs": [
    {
     "name": "stdout",
     "output_type": "stream",
     "text": [
      "words: [[['Looking', 'at', 'others', 'submissions', 'and', 'improving', 'on', 'mine', '.'], ['It', \"'\", 's', 'great', 'to', 'be', 'able', 'to', 'work', 'on', 'projects', 'that', 'can', 'have', 'a', 'real', 'impact', 'rather', 'than', 'just', 'making', 'visualisations', 'for', 'myself', '.'], ['I', 'really', 'enjoyed', 'being', 'able', 'to', 'see', 'the', 'live', 'presentation', 'and', 'the', 'amazing', 'vizes', 'that', 'others', 'had', 'done', ',', 'I', 'feel', 'I', 'learned', 'so', 'much', 'from', 'that', '.'], ['Opportunity', 'to', 'develop', 'my', 'technical', 'skills', ',', 'expand', 'my', 'network', ',', 'and', 'deliver', 'a', 'meaningful', 'output', '.'], ['The', 'reason', 'for', 'joining', 'was', 'to', 'lend', 'my', 'skill', 'at', 'making', 'a', 'difference', 'Getting', 'accurate', 'information', 'is', 'an', 'important', 'step', 'towards', 'help', '.'], ['I', 'think', 'VFSG', 'is', 'a', 'good', 'way', 'for', 'social', 'projects', 'to', 'understand', 'their', 'own', 'activities', 'and', 'identify', 'growth', 'points', '.'], ['And', 'at', 'the', 'same', 'time', ',', 'the', 'dissemination', 'of', 'information', 'makes', 'these', 'projects', 'accessible', 'to', 'people', '.'], ['Gaining', 'experience', '.'], ['Participating', 'for', 'good', 'causes', '.'], ['Social', 'impect', 'and', 'awareness', 'aspect', 'of', 'the', 'community', '.'], ['Great', 'people', 'and', 'Great', 'knowledge', 'Its', 'a', 'platform', 'where', 'we', 'are', 'helping', 'and', 'growing', 'socially', 'Clear', 'instructions', 'Just', 'to', 'know', 'that', 'I', 'am', 'making', 'a', 'change', 'is', 'enough', 'Being', 'able', 'to', 'help', 'non', 'profits', 'do', 'the', 'amazing', 'work', 'they', 'do', '.'], ['The', 'community', 'of', 'diverse', 'people', '.'], ['And', 'the', 'opportunity', 'to', 'learn', 'more', 'from', 'others', '.'], ['Networking', 'Meaningful', 'experience', 'I', 'like', 'that', 'it', '’', 's', 'an', 'opportunity', 'to', 'make', 'an', 'impact', 'in', 'the', 'community', 'with', 'the', 'new', 'skills', 'I', '’', 've', 'learned', '.'], ['It', 'sounds', 'like', 'a', 'great', 'opportunity', '!'], ['Chance', 'to', 'make', 'a', 'difference', 'through', 'a', 'creative', 'endeavor', 'Learning', ',', 'networking', ',', 'helping', 'VFSG', 'provides', 'real', 'life', 'client', 'brief', 'with', 'actual', 'needs', 'and', 'problems', 'for', 'the', 'volunteers', 'to', 'help', 'solve', '.'], ['It', 'gives', 'opportunity', 'to', 'do', 'good', 'with', 'our', 'data', 'viz', 'skills', '.'], ['I', 'recently', 'signed', 'on', 'and', 'haven', \"'\", 't', 'yet', 'had', 'the', 'chance', 'to', 'do', 'a', 'project', 'so', 'can', \"'\", 't', 'answer', 'this', 'Using', 'my', 'skillet', 'to', 'help', 'others', 'Gives', 'me', 'the', 'opportunity', 'to', 'learn', 'from', 'others', 'while', 'working', 'on', 'a', 'good', 'cause', '.'], ['Getting', 'to', 'practice', 'my', 'skills', 'outside', 'of', 'work', '!'], ['i', 'feel', 'useful', 'It', \"'\", 's', 'great', 'to', 'be', 'able', 'to', 'do', 'something', 'that', 'you', 'enjoy', 'knowing', 'that', 'it', 'might', 'help', 'an', 'org', 'or', 'group', 'of', 'people', 'who', 'can', \"'\", 't', 'necessarily', 'afford', 'to', 'pay', 'for', 'it', 'or', 'are', 'aware', 'that', 'something', 'like', 'clear', 'communication', 'of', 'data', 'can', 'help', 'get', 'their', 'message', 'out', '.'], ['Working', 'with', 'non', '-', 'profits', 'that', 'have', 'real', 'social', 'impacts', ',', 'well', '-', 'organised', 'event', ',', 'community', 'is', 'tightly', 'knit', 'I', 'actually', 'haven', \"'\", 't', 'had', 'a', 'chance', 'to', 'participate', 'yet', '--', 'look', 'forward', 'to', 'it', '!'], ['experience', ',', 'help', 'out', ',', 'meet', 'and', 'learn', 'Dedicated', 'people', 'who', 'are', 'kind', 'and', 'respectful', 'to', 'all', 'participants', '.'], ['Meaningful', 'requests', '(', 'though', 'often', 'discouraged', 'by', 'poor', 'fit', '/', 'inadequacy', 'of', 'data', 'to', 'address', 'those', 'well', ').'], ['Seeing', 'how', 'other', 'participants', 'handle', 'the', 'same', 'call', 'and', 'dataset', '(', 's', ').'], ['Sense', 'of', 'contributing', 'for', 'the', 'greater', 'good', 'and', 'being', 'part', 'of', 'a', 'community', 'Sharing', 'knowledge', 'and', 'result', 'with', 'data', 'people', 'and', 'people', 'who', 'need', 'any', 'assistants', 'from', 'data', 'people', 'I', 'have', 'just', 'started', ',', 'no', 'experience', 'yet', 'Learning', 'experience', 'Varied', 'non', '-', 'profits', 'that', 'are', 'being', 'highlighted', 'the', 'opportunity', 'to', 'practise', 'do', 'good', 'at', 'the', 'same', 'time', 'New', 'interesting', 'data', 'that', 'has', 'impact', 'I', \"'\", 'm', 'not', 'currently', 'active', 'Collaborating', 'with', 'the', 'fellow', 'VFSG', 'volunteer', 'members', 'and', 'helping', 'the', 'community', 'with', 'whatever', 'help', 'I', 'possibly', 'could', 'provide', 'with', 'my', 'skills', 'Definitely', 'the', 'mission', 'of', 'the', 'group', '.'], ['I', 'think', 'it', \"'\", 's', 'really', 'important', '.'], ['Helping', 'out', 'a', 'good', 'cause', 'I', 'am', 'yet', 'to', 'be', 'able', 'to', 'offer', 'my', 'services', '(', 'see', 'point', 'above', '-', 'ie', ',', 'I', 'would', 'prefer', 'a', 'collaboration', 'platform', 'to', 'pull', 'me', 'into', 'a', 'project', 'better', 'Using', 'my', 'skills', 'for', 'a', 'good', 'cause', '.'], ['I', 'love', 'helping', 'organizations', 'do', 'good', 'in', 'the', 'world', '.'], ['No', 'experience', 'yet', 'Ability', 'to', 'use', 'my', 'skills', 'and', 'talents', 'to', 'help', 'others', '.'], ['Competitiveness', 'Getting', 'to', 'help', 'others', 'and', 'learning', 'and', 'building', 'my', 'skills', 'at', 'the', 'same', 'time', 'good', 'causes', ',', 'inclusive', 'environment', ',', 'friendly', 'participants', 'This', 'is', 'my', 'first', 'time', 'volunteering', 'with', 'VFSG', 'Its', 'a', 'great', 'opportunitity', 'to', 'collaborate', 'with', 'the', 'Datafam', 'The', 'ability', 'to', 'use', 'skills', 'for', 'a', 'good', 'cause', ',', 'without', 'any', 'administrative', 'work', '.'], ['I', \"'\", 'm', 'excited', 'to', 'work', 'with', 'others', 'on', 'a', 'new', 'project', ',', 'I', 'like', 'data', 'viz', 'and', 'it', \"'\", 's', 'not', 'my', 'main', 'job', 'so', 'I', 'really', 'like', 'to', 'practice', 'it', 'when', 'I', 'can', 'Sharing', 'my', 'experience', 'and', 'using', 'it', 'to', 'help', 'others', 'I', 'havent', 'gotten', 'any', 'projects', 'yet', '.'], ['Would', 'be', 'great', 'to', 'participate', 'Th', 'problem', 'statement', 'is', 'clear', 'diverse', 'globally', 'and', 'diverse', 'tool', 'and', 'skill', 'set', 'Variety', 'of', 'projects', 'not', 'data', 'on', 'africa', 'Connection', 'with', 'others', 'around', 'the', 'globe', 'Community', 'connecting', 'globally', 'on', 'amazing', 'projects', '.', 'Learning', 'new', 'things', 'Great', 'community', 'and', 'great', 'organisations', '.', 'innovative', 'concept', 'on', 'using', 'data', 'for', 'social', 'good', 'Do', 'activities', 'that', 'help', 'society', 'A', 'chance', 'to', 'help', 'in', 'various', 'causes', 'which', 'I', 'wouldn', \"'\", 't', 'be', 'able', 'to', 'do', 'otherwise', '.'], ['I', 'still', 'didn', \"'\", 't', 'have', 'a', 'chance', 'to', 'participate', 'in', 'any', 'project', 'since', 'there', 'were', 'so', 'few', 'or', 'I', 'didn', \"'\", 't', 'get', 'notified', 'about', 'them', 'Subjects', 'Working', 'with', 'data', 'to', 'potentially', 'benefit', 'a', 'good', 'cause', 'Learning', 'and', 'seeing', 'others', 'results', 'after', 'trying', 'myself', 'The', 'feeling', 'that', 'I', 'can', 'do', 'something', 'good', 'just', 'by', 'doing', 'something', 'that', 'I', 'enjoy', 'doing', '.'], ['Love', 'everything', 'about', 'vfsg', 'Doing', 'good', 'by', 'using', 'our', 'talent', 'learn', 'from', 'other', 'Doing', 'something', 'I', 'love', 'and', 'hopefully', 'helping', 'others', '.'], ['social', 'good', 'Able', 'to', 'explain', 'to', 'bunch', 'of', 'new', 'people', '.'], ['Love', 'the', 'way', 'it', \"'\", 's', 'been', 'coordinated', 'I', 'haven', \"'\", 't', 'worked', 'on', 'a', 'project', 'yet', '.'], ['I', 'joined', 'recently', '.']]]\n"
     ]
    }
   ],
   "source": [
    "print(\"words:\", corpus.paras())"
   ]
  },
  {
   "cell_type": "code",
   "execution_count": 29,
   "metadata": {},
   "outputs": [
    {
     "name": "stdout",
     "output_type": "stream",
     "text": [
      "top 20 : [('to', 44), ('.', 34), ('I', 29), ('and', 26), ('the', 25), ('a', 23), (',', 16), ('good', 16), (\"'\", 15), ('that', 14), ('my', 13), ('help', 13), ('with', 13), ('others', 12), ('of', 12), ('for', 10), ('data', 10), ('on', 9), ('skills', 9), ('people', 9)]\n"
     ]
    }
   ],
   "source": [
    "#analyse\n",
    "\n",
    "course_freq_dist=nltk.FreqDist(corpus.words())\n",
    "print(\"top 20 :\",course_freq_dist.most_common(20))"
   ]
  },
  {
   "cell_type": "code",
   "execution_count": 32,
   "metadata": {},
   "outputs": [
    {
     "name": "stdout",
     "output_type": "stream",
     "text": [
      "token list: ['Looking', 'at', 'others', 'submissions', 'and', 'improving', 'on', 'mine', '.', 'It', \"'s\", 'great', 'to', 'be', 'able', 'to', 'work', 'on', 'projects', 'that']\n",
      "\n",
      " Total Tokens :  930\n"
     ]
    }
   ],
   "source": [
    "#tokens\n",
    "base_file=open(os.getcwd()+\"/test1.txt\",'rt')\n",
    "raw_text=base_file.read()\n",
    "base_file.close()\n",
    "\n",
    "#extract tokens\n",
    "token_list=nltk.word_tokenize(raw_text)\n",
    "print(\"token list:\" ,token_list[:20])\n",
    "print(\"\\n Total Tokens : \",len(token_list))\n"
   ]
  },
  {
   "cell_type": "code",
   "execution_count": 33,
   "metadata": {},
   "outputs": [
    {
     "name": "stdout",
     "output_type": "stream",
     "text": [
      "after removing punct: ['Looking', 'at', 'others', 'submissions', 'and', 'improving', 'on', 'mine', 'It', \"'s\", 'great', 'to', 'be', 'able', 'to', 'work', 'on', 'projects', 'that', 'can']\n",
      "\n",
      " Total tokens 869\n"
     ]
    }
   ],
   "source": [
    "# clean text\n",
    "\n",
    "token_list2 = list(filter(lambda token: nltk.tokenize.punkt.PunktToken(token).is_non_punct, token_list))\n",
    "print(\"after removing punct:\" ,token_list2[:20])\n",
    "print(\"\\n Total tokens\",len(token_list2))\n"
   ]
  },
  {
   "cell_type": "code",
   "execution_count": 36,
   "metadata": {},
   "outputs": [
    {
     "name": "stdout",
     "output_type": "stream",
     "text": [
      "token after convert to lower: ['looking', 'at', 'others', 'submissions', 'and', 'improving', 'on', 'mine', 'it', \"'s\", 'great', 'to', 'be', 'able', 'to', 'work', 'on', 'projects', 'that', 'can']\n",
      "\n",
      " len lower case: 869\n"
     ]
    }
   ],
   "source": [
    "#convert to lowercase\n",
    "\n",
    "token_list3=[word.lower() for word in token_list2 ]\n",
    "print(\"token after convert to lower:\" ,token_list3[:20])\n",
    "print(\"\\n len lower case:\", len(token_list3))"
   ]
  },
  {
   "cell_type": "code",
   "execution_count": 37,
   "metadata": {},
   "outputs": [
    {
     "name": "stderr",
     "output_type": "stream",
     "text": [
      "[nltk_data] Downloading package stopwords to\n",
      "[nltk_data]     C:\\Users\\malit\\AppData\\Roaming\\nltk_data...\n",
      "[nltk_data]   Unzipping corpora\\stopwords.zip.\n"
     ]
    },
    {
     "name": "stdout",
     "output_type": "stream",
     "text": [
      "token after stop words: ['looking', 'others', 'submissions', 'improving', 'mine', \"'s\", 'great', 'able', 'work', 'projects', 'real', 'impact', 'rather', 'making', 'visualisations', 'really', 'enjoyed', 'able', 'see', 'live']\n",
      "total after removing stop words 488\n"
     ]
    }
   ],
   "source": [
    "#remove stop words\n",
    "\n",
    "nltk.download('stopwords')\n",
    "from nltk.corpus import stopwords\n",
    "\n",
    "token_list4=list(filter(lambda token: token not in stopwords.words('english'),token_list3))\n",
    "print(\"token after stop words:\",token_list4[:20])\n",
    "print(\"total after removing stop words\",len(token_list4))"
   ]
  },
  {
   "cell_type": "code",
   "execution_count": 38,
   "metadata": {},
   "outputs": [
    {
     "name": "stdout",
     "output_type": "stream",
     "text": [
      "Toke after stemming: ['look', 'other', 'submiss', 'improv', 'mine', \"'s\", 'great', 'abl', 'work', 'project', 'real', 'impact', 'rather', 'make', 'visualis', 'realli', 'enjoy', 'abl', 'see', 'live']\n",
      "\n",
      " Total tokens: 488\n"
     ]
    }
   ],
   "source": [
    "# use PorterStemmer library Stemming\n",
    "\n",
    "from nltk.stem import PorterStemmer\n",
    "stemmer= PorterStemmer()\n",
    "\n",
    "#stem data\n",
    "token_list5=[stemmer.stem(word) for word in token_list4]\n",
    "print (\"Toke after stemming:\", token_list5[:20])\n",
    "print(\"\\n Total tokens:\", len(token_list5))"
   ]
  },
  {
   "cell_type": "code",
   "execution_count": 40,
   "metadata": {},
   "outputs": [
    {
     "name": "stderr",
     "output_type": "stream",
     "text": [
      "[nltk_data] Downloading package wordnet to\n",
      "[nltk_data]     C:\\Users\\malit\\AppData\\Roaming\\nltk_data...\n",
      "[nltk_data]   Package wordnet is already up-to-date!\n"
     ]
    },
    {
     "name": "stdout",
     "output_type": "stream",
     "text": [
      "after lemm: ['looking', 'others', 'submission', 'improving', 'mine', \"'s\", 'great', 'able', 'work', 'project', 'real', 'impact', 'rather', 'making', 'visualisation', 'really', 'enjoyed', 'able', 'see', 'live']\n",
      "total: 488\n"
     ]
    }
   ],
   "source": [
    "#lemmatization\n",
    "# wordnet library\n",
    "\n",
    "nltk.download('wordnet')\n",
    "from nltk.stem import WordNetLemmatizer\n",
    "lemmatizer=WordNetLemmatizer()\n",
    "token_list6=[lemmatizer.lemmatize(word) for word in token_list4]\n",
    "print(\"after lemm:\", token_list6[:20])\n",
    "print(\"total:\", len(token_list6))\n"
   ]
  },
  {
   "cell_type": "code",
   "execution_count": 43,
   "metadata": {},
   "outputs": [
    {
     "name": "stdout",
     "output_type": "stream",
     "text": [
      "Raw: ['looking', 'others', 'submissions', 'improving', 'mine', \"'s\", 'great', 'able', 'work', 'projects', 'real', 'impact', 'rather', 'making', 'visualisations', 'really', 'enjoyed', 'able', 'see', 'live'] \n",
      "\n",
      " stemmed : ['look', 'other', 'submiss', 'improv', 'mine', \"'s\", 'great', 'abl', 'work', 'project', 'real', 'impact', 'rather', 'make', 'visualis', 'realli', 'enjoy', 'abl', 'see', 'live'] \n",
      "\n",
      " LEMMATIZED: ['looking', 'others', 'submission', 'improving', 'mine', \"'s\", 'great', 'able', 'work', 'project', 'real', 'impact', 'rather', 'making', 'visualisation', 'really', 'enjoyed', 'able', 'see', 'live']\n"
     ]
    }
   ],
   "source": [
    "#comparison \n",
    "print(\"Raw:\",token_list4[:20],\"\\n\\n stemmed :\",token_list5[:20],\"\\n\\n LEMMATIZED:\",token_list6[:20])"
   ]
  },
  {
   "cell_type": "code",
   "execution_count": 55,
   "metadata": {},
   "outputs": [
    {
     "name": "stdout",
     "output_type": "stream",
     "text": [
      "Common bigrams:\n",
      "[(('good', 'cause'), 7), (('help', 'others'), 4), ((\"'s\", 'great'), 2), (('great', 'able'), 2), (('vfsg', 'good'), 2), (('community', 'great'), 2), (('opportunity', 'learn'), 2), (('learn', 'others'), 2), (('give', 'opportunity'), 2), (('data', 'viz'), 2), (('ca', \"n't\"), 2), (('something', 'enjoy'), 2), ((\"n't\", 'chance'), 2), (('chance', 'participate'), 2), (('data', 'people'), 2), (('experience', 'yet'), 2), (('skill', 'good'), 2), (('ability', 'use'), 2), (('use', 'skill'), 2), (('project', 'yet'), 2), (('social', 'good'), 2), (('looking', 'others'), 1), (('others', 'submission'), 1), (('submission', 'improving'), 1), (('improving', 'mine'), 1), (('mine', \"'s\"), 1), (('able', 'work'), 1), (('work', 'project'), 1), (('project', 'real'), 1), (('real', 'impact'), 1), (('impact', 'rather'), 1), (('rather', 'making'), 1), (('making', 'visualisation'), 1), (('visualisation', 'really'), 1), (('really', 'enjoyed'), 1), (('enjoyed', 'able'), 1), (('able', 'see'), 1), (('see', 'live'), 1), (('live', 'presentation'), 1), (('presentation', 'amazing'), 1), (('amazing', 'vizes'), 1), (('vizes', 'others'), 1), (('others', 'done'), 1), (('done', 'feel'), 1), (('feel', 'learned'), 1), (('learned', 'much'), 1), (('much', 'opportunity'), 1), (('opportunity', 'develop'), 1), (('develop', 'technical'), 1), (('technical', 'skill'), 1), (('skill', 'expand'), 1), (('expand', 'network'), 1), (('network', 'deliver'), 1), (('deliver', 'meaningful'), 1), (('meaningful', 'output'), 1), (('output', 'reason'), 1), (('reason', 'joining'), 1), (('joining', 'lend'), 1), (('lend', 'skill'), 1), (('skill', 'making'), 1), (('making', 'difference'), 1), (('difference', 'getting'), 1), (('getting', 'accurate'), 1), (('accurate', 'information'), 1), (('information', 'important'), 1), (('important', 'step'), 1), (('step', 'towards'), 1), (('towards', 'help'), 1), (('help', 'think'), 1), (('think', 'vfsg'), 1), (('good', 'way'), 1), (('way', 'social'), 1), (('social', 'project'), 1), (('project', 'understand'), 1), (('understand', 'activity'), 1), (('activity', 'identify'), 1), (('identify', 'growth'), 1), (('growth', 'point'), 1), (('point', 'time'), 1), (('time', 'dissemination'), 1), (('dissemination', 'information'), 1), (('information', 'make'), 1), (('make', 'project'), 1), (('project', 'accessible'), 1), (('accessible', 'people'), 1), (('people', 'gaining'), 1), (('gaining', 'experience'), 1), (('experience', 'participating'), 1), (('participating', 'good'), 1), (('cause', 'social'), 1), (('social', 'impect'), 1), (('impect', 'awareness'), 1), (('awareness', 'aspect'), 1), (('aspect', 'community'), 1), (('great', 'people'), 1), (('people', 'great'), 1), (('great', 'knowledge'), 1), (('knowledge', 'platform'), 1), (('platform', 'helping'), 1), (('helping', 'growing'), 1)]\n",
      "Common trigrams:\n",
      "[((\"'s\", 'great', 'able'), 2), (('opportunity', 'learn', 'others'), 2), ((\"n't\", 'chance', 'participate'), 2), (('skill', 'good', 'cause'), 2), (('ability', 'use', 'skill'), 2), (('looking', 'others', 'submission'), 1), (('others', 'submission', 'improving'), 1), (('submission', 'improving', 'mine'), 1), (('improving', 'mine', \"'s\"), 1), (('mine', \"'s\", 'great'), 1), (('great', 'able', 'work'), 1), (('able', 'work', 'project'), 1), (('work', 'project', 'real'), 1), (('project', 'real', 'impact'), 1), (('real', 'impact', 'rather'), 1), (('impact', 'rather', 'making'), 1), (('rather', 'making', 'visualisation'), 1), (('making', 'visualisation', 'really'), 1), (('visualisation', 'really', 'enjoyed'), 1), (('really', 'enjoyed', 'able'), 1), (('enjoyed', 'able', 'see'), 1), (('able', 'see', 'live'), 1), (('see', 'live', 'presentation'), 1), (('live', 'presentation', 'amazing'), 1), (('presentation', 'amazing', 'vizes'), 1), (('amazing', 'vizes', 'others'), 1), (('vizes', 'others', 'done'), 1), (('others', 'done', 'feel'), 1), (('done', 'feel', 'learned'), 1), (('feel', 'learned', 'much'), 1), (('learned', 'much', 'opportunity'), 1), (('much', 'opportunity', 'develop'), 1), (('opportunity', 'develop', 'technical'), 1), (('develop', 'technical', 'skill'), 1), (('technical', 'skill', 'expand'), 1), (('skill', 'expand', 'network'), 1), (('expand', 'network', 'deliver'), 1), (('network', 'deliver', 'meaningful'), 1), (('deliver', 'meaningful', 'output'), 1), (('meaningful', 'output', 'reason'), 1), (('output', 'reason', 'joining'), 1), (('reason', 'joining', 'lend'), 1), (('joining', 'lend', 'skill'), 1), (('lend', 'skill', 'making'), 1), (('skill', 'making', 'difference'), 1), (('making', 'difference', 'getting'), 1), (('difference', 'getting', 'accurate'), 1), (('getting', 'accurate', 'information'), 1), (('accurate', 'information', 'important'), 1), (('information', 'important', 'step'), 1), (('important', 'step', 'towards'), 1), (('step', 'towards', 'help'), 1), (('towards', 'help', 'think'), 1), (('help', 'think', 'vfsg'), 1), (('think', 'vfsg', 'good'), 1), (('vfsg', 'good', 'way'), 1), (('good', 'way', 'social'), 1), (('way', 'social', 'project'), 1), (('social', 'project', 'understand'), 1), (('project', 'understand', 'activity'), 1), (('understand', 'activity', 'identify'), 1), (('activity', 'identify', 'growth'), 1), (('identify', 'growth', 'point'), 1), (('growth', 'point', 'time'), 1), (('point', 'time', 'dissemination'), 1), (('time', 'dissemination', 'information'), 1), (('dissemination', 'information', 'make'), 1), (('information', 'make', 'project'), 1), (('make', 'project', 'accessible'), 1), (('project', 'accessible', 'people'), 1), (('accessible', 'people', 'gaining'), 1), (('people', 'gaining', 'experience'), 1), (('gaining', 'experience', 'participating'), 1), (('experience', 'participating', 'good'), 1), (('participating', 'good', 'cause'), 1), (('good', 'cause', 'social'), 1), (('cause', 'social', 'impect'), 1), (('social', 'impect', 'awareness'), 1), (('impect', 'awareness', 'aspect'), 1), (('awareness', 'aspect', 'community'), 1), (('aspect', 'community', 'great'), 1), (('community', 'great', 'people'), 1), (('great', 'people', 'great'), 1), (('people', 'great', 'knowledge'), 1), (('great', 'knowledge', 'platform'), 1), (('knowledge', 'platform', 'helping'), 1), (('platform', 'helping', 'growing'), 1), (('helping', 'growing', 'socially'), 1), (('growing', 'socially', 'clear'), 1), (('socially', 'clear', 'instruction'), 1), (('clear', 'instruction', 'know'), 1), (('instruction', 'know', 'making'), 1), (('know', 'making', 'change'), 1), (('making', 'change', 'enough'), 1), (('change', 'enough', 'able'), 1), (('enough', 'able', 'help'), 1), (('able', 'help', 'non'), 1), (('help', 'non', 'profit'), 1), (('non', 'profit', 'amazing'), 1), (('profit', 'amazing', 'work'), 1)]\n"
     ]
    }
   ],
   "source": [
    "#Building n grams\n",
    "from nltk.util import ngrams\n",
    "from collections import Counter\n",
    "\n",
    "bigrams=ngrams(token_list6,2)\n",
    "print(\"Common bigrams:\")\n",
    "print(Counter(bigrams).most_common(100))\n",
    "\n",
    "trigrams=ngrams(token_list6,3)\n",
    "print(\"Common trigrams:\")\n",
    "print(Counter(trigrams).most_common(100))\n"
   ]
  },
  {
   "cell_type": "code",
   "execution_count": 47,
   "metadata": {},
   "outputs": [
    {
     "name": "stderr",
     "output_type": "stream",
     "text": [
      "[nltk_data] Error loading AVERAGED_PERCEPTRON_TAGGER: Package\n",
      "[nltk_data]     'AVERAGED_PERCEPTRON_TAGGER' not found in index\n"
     ]
    },
    {
     "data": {
      "text/plain": [
       "[('looking', 'VBG'),\n",
       " ('others', 'NNS'),\n",
       " ('submissions', 'NNS'),\n",
       " ('improving', 'VBG'),\n",
       " ('mine', 'NN'),\n",
       " (\"'s\", 'POS'),\n",
       " ('great', 'JJ'),\n",
       " ('able', 'JJ'),\n",
       " ('work', 'NN'),\n",
       " ('projects', 'NNS')]"
      ]
     },
     "execution_count": 47,
     "metadata": {},
     "output_type": "execute_result"
    }
   ],
   "source": [
    "#PARTS OF SPEECH TAGGING\n",
    "nltk.download('AVERAGED_PERCEPTRON_TAGGER')\n",
    " \n",
    "    \n",
    "nltk.pos_tag(token_list4)[:10]"
   ]
  },
  {
   "cell_type": "code",
   "execution_count": 51,
   "metadata": {},
   "outputs": [
    {
     "name": "stdout",
     "output_type": "stream",
     "text": [
      "tokens :\n",
      "['able', 'amazing', 'change', 'clear', 'growing', 'help', 'helping', 'instructions', 'just', 'know', 'making', 'non', 'platform', 'profits', 'socially', 'work']\n",
      "\n",
      " size of array\n",
      "(4, 16)\n",
      "\n",
      " Actual IF-IDF array\n"
     ]
    },
    {
     "data": {
      "text/plain": [
       "array([[0.        , 0.        , 0.        , 0.        , 0.5       ,\n",
       "        0.        , 0.5       , 0.        , 0.        , 0.        ,\n",
       "        0.        , 0.        , 0.5       , 0.        , 0.5       ,\n",
       "        0.        ],\n",
       "       [0.        , 0.        , 0.        , 0.70710678, 0.        ,\n",
       "        0.        , 0.        , 0.70710678, 0.        , 0.        ,\n",
       "        0.        , 0.        , 0.        , 0.        , 0.        ,\n",
       "        0.        ],\n",
       "       [0.        , 0.        , 0.5       , 0.        , 0.        ,\n",
       "        0.        , 0.        , 0.        , 0.5       , 0.5       ,\n",
       "        0.5       , 0.        , 0.        , 0.        , 0.        ,\n",
       "        0.        ],\n",
       "       [0.40824829, 0.40824829, 0.        , 0.        , 0.        ,\n",
       "        0.40824829, 0.        , 0.        , 0.        , 0.        ,\n",
       "        0.        , 0.40824829, 0.        , 0.40824829, 0.        ,\n",
       "        0.40824829]])"
      ]
     },
     "execution_count": 51,
     "metadata": {},
     "output_type": "execute_result"
    }
   ],
   "source": [
    "#term freq -inverse document freq\n",
    "# use scikit-learn library\n",
    "from sklearn.feature_extraction.text import TfidfVectorizer\n",
    "import pandas as pd\n",
    "\n",
    "vector_corpus=[\n",
    "    'Its a platform where we are helping and growing socially',\n",
    "'Clear instructions',\n",
    "'Just to know that I am making a change is enough',\n",
    "'Being able to help non profits do the amazing work they do.'\n",
    "]\n",
    "\n",
    "# vectorizer for english lang\n",
    "vectorizer = TfidfVectorizer(stop_words='english')\n",
    "\n",
    "#create vector\n",
    "tfidf=vectorizer.fit_transform(vector_corpus)\n",
    "\n",
    "print(\"tokens :\")\n",
    "print(vectorizer.get_feature_names())\n",
    "\n",
    "print(\"\\n size of array\")\n",
    "print(tfidf.shape)\n",
    "\n",
    "print(\"\\n Actual IF-IDF array\")\n",
    "tfidf.toarray()\n",
    "\n",
    "\n",
    "\n",
    "\n"
   ]
  },
  {
   "cell_type": "code",
   "execution_count": 52,
   "metadata": {},
   "outputs": [
    {
     "name": "stdout",
     "output_type": "stream",
     "text": [
      "['looking', 'others', 'submission', 'improving', 'mine', \"'s\", 'great', 'able', 'work', 'project', 'real', 'impact', 'rather', 'making', 'visualisation', 'really', 'enjoyed', 'able', 'see', 'live', 'presentation', 'amazing', 'vizes', 'others', 'done', 'feel', 'learned', 'much', 'opportunity', 'develop', 'technical', 'skill', 'expand', 'network', 'deliver', 'meaningful', 'output', 'reason', 'joining', 'lend', 'skill', 'making', 'difference', 'getting', 'accurate', 'information', 'important', 'step', 'towards', 'help', 'think', 'vfsg', 'good', 'way', 'social', 'project', 'understand', 'activity', 'identify', 'growth', 'point', 'time', 'dissemination', 'information', 'make', 'project', 'accessible', 'people', 'gaining', 'experience', 'participating', 'good', 'cause', 'social', 'impect', 'awareness', 'aspect', 'community', 'great', 'people', 'great', 'knowledge', 'platform', 'helping', 'growing', 'socially', 'clear', 'instruction', 'know', 'making', 'change', 'enough', 'able', 'help', 'non', 'profit', 'amazing', 'work', 'community', 'diverse', 'people', 'opportunity', 'learn', 'others', 'networking', 'meaningful', 'experience', 'like', 'itâ€™s', 'opportunity', 'make', 'impact', 'community', 'new', 'skill', 'iâ€™ve', 'learned', 'sound', 'like', 'great', 'opportunity', 'chance', 'make', 'difference', 'creative', 'endeavor', 'learning', 'networking', 'helping', 'vfsg', 'provides', 'real', 'life', 'client', 'brief', 'actual', 'need', 'problem', 'volunteer', 'help', 'solve', 'give', 'opportunity', 'good', 'data', 'viz', 'skill', 'recently', 'signed', \"n't\", 'yet', 'chance', 'project', 'ca', \"n't\", 'answer', 'using', 'skillet', 'help', 'others', 'give', 'opportunity', 'learn', 'others', 'working', 'good', 'cause', 'getting', 'practice', 'skill', 'outside', 'work', 'feel', 'useful', \"'s\", 'great', 'able', 'something', 'enjoy', 'knowing', 'might', 'help', 'org', 'group', 'people', 'ca', \"n't\", 'necessarily', 'afford', 'pay', 'aware', 'something', 'like', 'clear', 'communication', 'data', 'help', 'get', 'message', 'working', 'non-profits', 'real', 'social', 'impact', 'well-organised', 'event', 'community', 'tightly', 'knit', 'actually', \"n't\", 'chance', 'participate', 'yet', 'look', 'forward', 'experience', 'help', 'meet', 'learn', 'dedicated', 'people', 'kind', 'respectful', 'participant', 'meaningful', 'request', 'though', 'often', 'discouraged', 'poor', 'fit', 'inadequacy', 'data', 'address', 'well', 'seeing', 'participant', 'handle', 'call', 'dataset', 'sense', 'contributing', 'greater', 'good', 'part', 'community', 'sharing', 'knowledge', 'result', 'data', 'people', 'people', 'need', 'assistant', 'data', 'people', 'started', 'experience', 'yet', 'learning', 'experience', 'varied', 'non-profits', 'highlighted', 'opportunity', 'practise', 'good', 'time', 'new', 'interesting', 'data', 'impact', \"'m\", 'currently', 'active', 'collaborating', 'fellow', 'vfsg', 'volunteer', 'member', 'helping', 'community', 'whatever', 'help', 'possibly', 'could', 'provide', 'skill', 'definitely', 'mission', 'group', 'think', \"'s\", 'really', 'important', 'helping', 'good', 'cause', 'yet', 'able', 'offer', 'service', 'see', 'point', 'ie', 'would', 'prefer', 'collaboration', 'platform', 'pull', 'project', 'better', 'using', 'skill', 'good', 'cause', 'love', 'helping', 'organization', 'good', 'world', 'experience', 'yet', 'ability', 'use', 'skill', 'talent', 'help', 'others', 'competitiveness', 'getting', 'help', 'others', 'learning', 'building', 'skill', 'time', 'good', 'cause', 'inclusive', 'environment', 'friendly', 'participant', 'first', 'time', 'volunteering', 'vfsg', 'great', 'opportunitity', 'collaborate', 'datafam', 'ability', 'use', 'skill', 'good', 'cause', 'without', 'administrative', 'work', \"'m\", 'excited', 'work', 'others', 'new', 'project', 'like', 'data', 'viz', \"'s\", 'main', 'job', 'really', 'like', 'practice', 'sharing', 'experience', 'using', 'help', 'others', 'havent', 'gotten', 'project', 'yet', 'would', 'great', 'participate', 'th', 'problem', 'statement', 'clear', 'diverse', 'globally', 'diverse', 'tool', 'skill', 'set', 'variety', 'project', 'data', 'africa', 'connection', 'others', 'around', 'globe', 'community', 'connecting', 'globally', 'amazing', 'project', '.learning', 'new', 'thing', 'great', 'community', 'great', 'organisations.innovative', 'concept', 'using', 'data', 'social', 'good', 'activity', 'help', 'society', 'chance', 'help', 'various', 'cause', 'would', \"n't\", 'able', 'otherwise', 'still', \"n't\", 'chance', 'participate', 'project', 'since', \"n't\", 'get', 'notified', 'subject', 'working', 'data', 'potentially', 'benefit', 'good', 'cause', 'learning', 'seeing', 'others', 'result', 'trying', 'feeling', 'something', 'good', 'something', 'enjoy', 'love', 'everything', 'vfsg', 'good', 'using', 'talent', 'learn', 'something', 'love', 'hopefully', 'helping', 'others', 'social', 'good', 'able', 'explain', 'bunch', 'new', 'people', 'love', 'way', \"'s\", 'coordinated', \"n't\", 'worked', 'project', 'yet', 'joined', 'recently']\n"
     ]
    }
   ],
   "source": [
    "print(token_list6)"
   ]
  },
  {
   "cell_type": "code",
   "execution_count": 57,
   "metadata": {},
   "outputs": [
    {
     "name": "stdout",
     "output_type": "stream",
     "text": [
      "[]\n"
     ]
    }
   ],
   "source": [
    "print(Counter(bigrams).most_common(100))"
   ]
  },
  {
   "cell_type": "code",
   "execution_count": 56,
   "metadata": {},
   "outputs": [],
   "source": [
    "# cleaned text to csv\n",
    "import pandas as pd  \n",
    "\n",
    "dictionary = {'remarks': token_list6}  \n",
    "dataframe = pd.DataFrame(dictionary) \n",
    "dataframe.to_csv('remarks.csv')"
   ]
  },
  {
   "cell_type": "code",
   "execution_count": null,
   "metadata": {},
   "outputs": [],
   "source": []
  }
 ],
 "metadata": {
  "kernelspec": {
   "display_name": "Python 3",
   "language": "python",
   "name": "python3"
  },
  "language_info": {
   "codemirror_mode": {
    "name": "ipython",
    "version": 3
   },
   "file_extension": ".py",
   "mimetype": "text/x-python",
   "name": "python",
   "nbconvert_exporter": "python",
   "pygments_lexer": "ipython3",
   "version": "3.8.1"
  }
 },
 "nbformat": 4,
 "nbformat_minor": 4
}
